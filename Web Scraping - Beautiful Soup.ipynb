{
 "cells": [
  {
   "cell_type": "markdown",
   "metadata": {},
   "source": [
    "# Importing libraries"
   ]
  },
  {
   "cell_type": "code",
   "execution_count": 31,
   "metadata": {},
   "outputs": [],
   "source": [
    "import requests\n",
    "import numpy as np\n",
    "from bs4 import BeautifulSoup\n",
    "import pandas as pd\n",
    "import json"
   ]
  },
  {
   "cell_type": "markdown",
   "metadata": {},
   "source": [
    "## Scrapping the website"
   ]
  },
  {
   "cell_type": "code",
   "execution_count": 32,
   "metadata": {},
   "outputs": [],
   "source": [
    "# target URL to scrap\n",
    "url = \"https://www.midsouthshooterssupply.com/dept/reloading/primers?currentpage=1\""
   ]
  },
  {
   "cell_type": "code",
   "execution_count": 33,
   "metadata": {},
   "outputs": [],
   "source": [
    "#proxies(only US)\n",
    "proxies = {\"https\":\"http://35.214.170.66:3128\"}"
   ]
  },
  {
   "cell_type": "code",
   "execution_count": 27,
   "metadata": {},
   "outputs": [],
   "source": [
    "response=requests.get(url,proxies=proxies)\n",
    "content=response.text\n",
    "soup=BeautifulSoup(content)"
   ]
  },
  {
   "cell_type": "code",
   "execution_count": 28,
   "metadata": {},
   "outputs": [],
   "source": [
    "def get_data(path):\n",
    "    data=[]\n",
    "    for x in soup.select(path):\n",
    "        if x is None:\n",
    "            data.append(np.NaN)\n",
    "        else:\n",
    "            data.append(x.text)\n",
    "    return data"
   ]
  },
  {
   "cell_type": "code",
   "execution_count": 29,
   "metadata": {},
   "outputs": [],
   "source": [
    "title=get_data(\"a.catalog-item-name\")\n",
    "price=get_data(\"span.price>span\")\n",
    "stock=get_data(\"span.status>span\")\n",
    "maftr=get_data(\"a.catalog-item-brand\")"
   ]
  },
  {
   "cell_type": "code",
   "execution_count": 52,
   "metadata": {},
   "outputs": [],
   "source": [
    "replacements = {\n",
    "    \"Out of Stock\": \"False\",\n",
    "    \"In Stock\": \"True\"\n",
    "}"
   ]
  },
  {
   "cell_type": "markdown",
   "metadata": {},
   "source": [
    "## Visualising Dataset"
   ]
  },
  {
   "cell_type": "code",
   "execution_count": 57,
   "metadata": {},
   "outputs": [
    {
     "data": {
      "text/html": [
       "<div>\n",
       "<style scoped>\n",
       "    .dataframe tbody tr th:only-of-type {\n",
       "        vertical-align: middle;\n",
       "    }\n",
       "\n",
       "    .dataframe tbody tr th {\n",
       "        vertical-align: top;\n",
       "    }\n",
       "\n",
       "    .dataframe thead th {\n",
       "        text-align: right;\n",
       "    }\n",
       "</style>\n",
       "<table border=\"1\" class=\"dataframe\">\n",
       "  <thead>\n",
       "    <tr style=\"text-align: right;\">\n",
       "      <th></th>\n",
       "      <th>Title</th>\n",
       "      <th>Price</th>\n",
       "      <th>Stock</th>\n",
       "      <th>Maftr</th>\n",
       "    </tr>\n",
       "  </thead>\n",
       "  <tbody>\n",
       "    <tr>\n",
       "      <th>0</th>\n",
       "      <td>Winchester USA Ready Match Large Pistol Primer...</td>\n",
       "      <td>$70.04</td>\n",
       "      <td>False</td>\n",
       "      <td>Winchester</td>\n",
       "    </tr>\n",
       "    <tr>\n",
       "      <th>1</th>\n",
       "      <td>Winchester USA Ready Match Large Rifle Primers...</td>\n",
       "      <td>$70.04</td>\n",
       "      <td>False</td>\n",
       "      <td>Winchester</td>\n",
       "    </tr>\n",
       "    <tr>\n",
       "      <th>2</th>\n",
       "      <td>Winchester USA Ready Match Small Pistol Primer...</td>\n",
       "      <td>$70.04</td>\n",
       "      <td>False</td>\n",
       "      <td>Winchester</td>\n",
       "    </tr>\n",
       "    <tr>\n",
       "      <th>3</th>\n",
       "      <td>Winchester USA Ready Match Small Rifle Primers...</td>\n",
       "      <td>$70.04</td>\n",
       "      <td>False</td>\n",
       "      <td>Winchester</td>\n",
       "    </tr>\n",
       "    <tr>\n",
       "      <th>4</th>\n",
       "      <td>Winchester Small Pistol Primers 1000 Count</td>\n",
       "      <td>$60.90</td>\n",
       "      <td>False</td>\n",
       "      <td>Winchester</td>\n",
       "    </tr>\n",
       "  </tbody>\n",
       "</table>\n",
       "</div>"
      ],
      "text/plain": [
       "                                               Title   Price  Stock  \\\n",
       "0  Winchester USA Ready Match Large Pistol Primer...  $70.04  False   \n",
       "1  Winchester USA Ready Match Large Rifle Primers...  $70.04  False   \n",
       "2  Winchester USA Ready Match Small Pistol Primer...  $70.04  False   \n",
       "3  Winchester USA Ready Match Small Rifle Primers...  $70.04  False   \n",
       "4         Winchester Small Pistol Primers 1000 Count  $60.90  False   \n",
       "\n",
       "        Maftr  \n",
       "0  Winchester  \n",
       "1  Winchester  \n",
       "2  Winchester  \n",
       "3  Winchester  \n",
       "4  Winchester  "
      ]
     },
     "execution_count": 57,
     "metadata": {},
     "output_type": "execute_result"
    }
   ],
   "source": [
    "data=pd.DataFrame({'Title':title,'Price':price,'Stock':stock,'Maftr':maftr})\n",
    "data['Stock'].replace(replacements, inplace=True)\n",
    "data.head(5)"
   ]
  },
  {
   "cell_type": "code",
   "execution_count": 56,
   "metadata": {},
   "outputs": [
    {
     "name": "stdout",
     "output_type": "stream",
     "text": [
      "{\"Title\":{\"0\":\"Winchester USA Ready Match Large Pistol Primers 1000 Count\",\"1\":\"Winchester USA Ready Match Large Rifle Primers 1000 Count\",\"2\":\"Winchester USA Ready Match Small Pistol Primers 1000 Count\",\"3\":\"Winchester USA Ready Match Small Rifle Primers 1000 Count\",\"4\":\"Winchester Small Pistol Primers 1000 Count\",\"5\":\"#500 Small Pistol Primer (1000 Count)\",\"6\":\"Winchester Large Pistol Primers 1000 Count\",\"7\":\"#300 Large Pistol Primer (1000 Count)\",\"8\":\"Winchester Small Rifle Primers 1000 Count\",\"9\":\"#400 Small Rifle Primer (1000 Count)\",\"10\":\"Winchester Large Rifle Primers 1000 Count\",\"11\":\"#200 Large Rifle Primer (1000 Count)\",\"12\":\"Winchester Small Pistol Magnum Primers 1000 Count\",\"13\":\"Winchester Magnum Large Rifle Primers 1000 Count\",\"14\":\"#450 Magnum Small Rifle Primer (1000 Count)\",\"15\":\"#250 Magnum Large Rifle Primer (1000 Count)\",\"16\":\"#550 Magnum Small Pistol Primer (1000 Count)\",\"17\":\"#350 Magnum Large Pistol Primer (1000 Count)\",\"18\":\"Gold Medal Large Rifle Match Primer #GM210M (1000 Count)\",\"19\":\"#41 5.56 & 30 Carbine NATO Spec Primer 1000 Count\",\"20\":\"#34 7.62mm & 30-06 NATO Spec Primer 1000 Count\",\"21\":\"BR2 Large Rifle Bench Rest Primers (1000 Count)\",\"22\":\"BR4 Small Rifle Bench Rest Primer (1000 Count)\",\"23\":\"#35 50 Caliber BMG Primer (500 Count)\",\"24\":\"1 1\\/2 Small Pistol Primer (1000 Count)\",\"25\":\"2 1\\/2 Large Pistol Primer (1000 Count)\",\"26\":\"6 1\\/2 Small Rifle Primer (1000 Count)\",\"27\":\"9 1\\/2 Large Rifle Primer (1000 Count)\",\"28\":\"9 1\\/2 Magnum Large Rifle Primer (1000 Count)\",\"29\":\"5 1\\/2 Small Mag Pistol Primer (1000 Count)\"},\"Price\":{\"0\":\"$70.04\",\"1\":\"$70.04\",\"2\":\"$70.04\",\"3\":\"$70.04\",\"4\":\"$60.90\",\"5\":\"$69.13\",\"6\":\"$60.90\",\"7\":\"$69.13\",\"8\":\"$60.90\",\"9\":\"$69.13\",\"10\":\"$60.90\",\"11\":\"$69.13\",\"12\":\"$60.90\",\"13\":\"$67.28\",\"14\":\"$76.26\",\"15\":\"$76.26\",\"16\":\"$69.13\",\"17\":\"$76.26\",\"18\":\"$76.42\",\"19\":\"$90.68\",\"20\":\"$91.14\",\"21\":\"$121.52\",\"22\":\"$121.52\",\"23\":\"$442.94\",\"24\":\"$59.67\",\"25\":\"$59.67\",\"26\":\"$59.67\",\"27\":\"$59.67\",\"28\":\"$65.78\",\"29\":\"$59.67\"},\"Stock\":{\"0\":\"False\",\"1\":\"False\",\"2\":\"False\",\"3\":\"False\",\"4\":\"False\",\"5\":\"False\",\"6\":\"False\",\"7\":\"False\",\"8\":\"False\",\"9\":\"False\",\"10\":\"False\",\"11\":\"False\",\"12\":\"False\",\"13\":\"False\",\"14\":\"False\",\"15\":\"False\",\"16\":\"False\",\"17\":\"False\",\"18\":\"False\",\"19\":\"False\",\"20\":\"False\",\"21\":\"False\",\"22\":\"False\",\"23\":\"False\",\"24\":\"False\",\"25\":\"False\",\"26\":\"False\",\"27\":\"False\",\"28\":\"False\",\"29\":\"False\"},\"Maftr\":{\"0\":\"Winchester\",\"1\":\"Winchester\",\"2\":\"Winchester\",\"3\":\"Winchester\",\"4\":\"Winchester\",\"5\":\"CCI \",\"6\":\"Winchester\",\"7\":\"CCI \",\"8\":\"Winchester\",\"9\":\"CCI \",\"10\":\"Winchester\",\"11\":\"CCI \",\"12\":\"Winchester\",\"13\":\"Winchester\",\"14\":\"CCI \",\"15\":\"CCI \",\"16\":\"CCI \",\"17\":\"CCI \",\"18\":\"Federal \",\"19\":\"CCI \",\"20\":\"CCI \",\"21\":\"CCI \",\"22\":\"CCI \",\"23\":\"CCI \",\"24\":\"Remington\",\"25\":\"Remington\",\"26\":\"Remington\",\"27\":\"Remington\",\"28\":\"Remington\",\"29\":\"Remington\"}}\n"
     ]
    }
   ],
   "source": [
    "#convert dataframe into json file\n",
    "json_data=data.to_json()\n",
    "print(json_data)"
   ]
  },
  {
   "cell_type": "code",
   "execution_count": null,
   "metadata": {},
   "outputs": [],
   "source": []
  }
 ],
 "metadata": {
  "kernelspec": {
   "display_name": "Python 3",
   "language": "python",
   "name": "python3"
  },
  "language_info": {
   "codemirror_mode": {
    "name": "ipython",
    "version": 3
   },
   "file_extension": ".py",
   "mimetype": "text/x-python",
   "name": "python",
   "nbconvert_exporter": "python",
   "pygments_lexer": "ipython3",
   "version": "3.8.3"
  }
 },
 "nbformat": 4,
 "nbformat_minor": 4
}
